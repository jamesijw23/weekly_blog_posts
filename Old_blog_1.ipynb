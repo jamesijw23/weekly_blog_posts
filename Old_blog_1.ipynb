{
 "cells": [
  {
   "cell_type": "markdown",
   "metadata": {},
   "source": [
    "# I am a Data Scientist"
   ]
  },
  {
   "cell_type": "markdown",
   "metadata": {},
   "source": [
    "https://help.github.com/articles/working-with-jupyter-notebook-files-on-github/"
   ]
  },
  {
   "cell_type": "markdown",
   "metadata": {},
   "source": [
    "# P: Basic Definition Bayes Theorem (Posted)\n",
    "In order to fully understand Bayes theorem you must understand conditional probability. Conditional probability allows you to account for information that is already known to determine the likelihood of an event of interest. This example will make the last sentence clear, say that you are interested in the probability of the Warriors winning given that Steph Curry is out injured. This is a conditional probability because we are given some information about Steph  which directly affects the chances of the Warriors winning.\n",
    "\n",
    "The idea behind Bayes theorem is that we can calculate the probability of the Warriors winning given Steph Curry is injured based on understanding the implications of Steph. Note that two potential outcomes can occur if Steph is out 1) Warriors Win or 2) Warriors Lose. This means the probability of Steph being injured can be seen as Steph is injured and Warriors Win plus Steph is injured and Warriors Lose. This is called the total probability law which allows me to state the probability event, Steph Curry is injured, as the event occuring simulatenously with another event, lets say A, plus the same event and the opposite of A.\n",
    "\n",
    "It is important to note that we are interested in the probability of Warriors winning and Steph is out. That being said, the probability of the Warriors win given Steph is out is equavilent to the ratio between the Warriors Winning and Steph is out and probability of Steph being out. The probability of Steph being out can be reexpessed again reusing the law of total probability as Steph is injured and Warriors Win plus Steph is injured and Warriors Lose.\n",
    "\n",
    "S: Steph Curry is out\n",
    "W: Warriors Winning\n",
    "L: Warriors Losing\n",
    "|: means given or previously known\n",
    "P(W|S): conditional probability which means what is the probability of the Warriors winning given Steph is out, this is the probability that we are intersted in finding\n",
    "\n",
    "\n",
    "\n",
    "P(W and S): the probability that Steph is injured and Warriors Win\n",
    "\n",
    "P(L and S): the probability that Steph is injured and Warriors Lose\n",
    "\n",
    "\n",
    "Assume we know P(W and S) and P(L and S) from previous games in which Steph was out or in the game and what was the outcome\n",
    "\n",
    "P(S) = P(W and S) + P(L and S)\n",
    "\n",
    "P(W|S) = P(W and S) / P(S) \n",
    "       = P(W and S) / P(W and S) + P(L and S)\n",
    "\n",
    "- Why is this important?\n",
    "This is vital to every field because it is important to make inferences based on information we already know. In probability there are times when we do not have any information about a phenomnon that we are interested in which methods are used (not discussed here) to find desired probabilites.\n",
    "\n",
    "- When to use technique?\n",
    "Bayes theorem is vital in making inferences about real life problems when you have prior information about the problem or you have belief that you believe is causing what you are interested in.\n",
    "\n",
    "- Example with problems\n",
    "It is known that Lipitor lowers cholestorol. Say we are conducting a study where the probability that a patient gets Liptor is 0.53. Lets say that we also know that the probability of cholestorol decreasing given Lipitor is 0.76 and the probability of cholestorol decreasing when no Lipitor is given is 0.23. Find the probability of a paitent gets Lipitor given the cholestorol decreased. \n",
    "\n",
    "1. Understand the variables of interest \n",
    "    - Cholestorol - it can go decrease (D) or stay the same (S) \n",
    "    - Lipitor - is given (+) or not given (-)\n",
    "2. State Problem using symbols \n",
    "    - The probability of a paitent given Lipitor given the cholestorol decreased\n",
    "    - P(+|D) \n",
    "3. Use Symbols to state what we know\n",
    "    - P(+) = 0.53 which means P(-) = 0.47\n",
    "    - P(D|+) = 0.76 and P(D|-) = 0.23\n",
    "4. Rewrite what we are trying to find\n",
    "    - P(+|D) = P(+ and D) / P(D) = P(+ and D) / (P(+ and D) + P(- and D))\n",
    "5. How do you find P(+ and D) and P(- and D)? Well we have to remember the multiplication rule, which is:\n",
    "    - P(+ and D) = P(D|+)P(+) and P(- and D) = P(D|-)P(-)\n",
    "    - P(+ and D) = (0.76)(0.53) = 0.4028 and P(- and D) = (0.23)(0.47) = 0.1081\n",
    "6. Therefore by using Bayes Theorem we get the following\n",
    "    - P(+|D) = 0.4028/(0.4028+0.1081) = 0.7884\n",
    "    - Which means that the probability of a paitent gets Lipitor given the cholestorol decreased is 0.7884\n",
    "7. What if we were interested in P(-|D)? That does only changes the numerator from the last calculation.\n",
    "    - P(- and D) / (P(+ and D) + P(- and D))\n",
    "    - P(-|D) = 0.1081/(0.4028+0.1081) = 0.2115\n",
    "    - Which means that the probability of a paitent does not get Lipitor given the cholestorol decreased is 0.2115\n",
    "    \n",
    "This final results makes sense if someone that does not take the medication that is known to lower cholestorol should have a lower probability of their cholestorol lowering compared to someone did."
   ]
  },
  {
   "cell_type": "markdown",
   "metadata": {},
   "source": [
    "# S: Statistical Techniques to Estimate Parameters\n",
    "\n",
    "Statistical models are composed of data and parameters which are used to make generalizations about the real world. Parameters are used to make generalizations with the data at hand. The idea is that you must find the parameter that fits the data but also is generalizable to other samples of data. There are many ways to estimate find these parameters, however, I will discuss 3 classical statistical techniques to find these parameters based on the data. Another terminology for the statistical model is called the objective function where we are trying to optimize the parameters\n",
    "\n",
    "### 1) Method of Moments (Requires Probability)\n",
    "MOM allows you to find the parameters with the statistical model by analyzing the moments. The following description assumes you have a background in probability theory. The nth moment is the expectation of a probability disribution which is $E[X^n]$. The number of unknown parameters determines the number of moments. This implies if the binomial distribution is used to model a problem in which both sample size and the probability are unknown, 2 moments are need.\n",
    "\n",
    "\n",
    "\n",
    "### 2) Maximum Likelihood Estimator (Requires Calculus)\n",
    "Take the derivative of the pararmeter of interest with respect to the objective function and set the equation 0 and solve for the parameter. If you have two or more unknown parameters within the objective function, another method called Expectation Maximization must be implemented (This will be discussed in another post).\n",
    "\n",
    "\n",
    "### Review of Bayesian Statistics\n",
    "Since the next two techniques requires bayesian statistics I will provide a brief synopsis\n",
    "1. $p()$ is probability\n",
    "2. $x$ is the data\n",
    "3. $u$ denotes the unknown parameter, the random variable\n",
    "4. $p(u|x)$, the probability of the parameters given data, this is called the posterior distribution\n",
    "5.  Bayes Theorem allows us to re-express this function as\n",
    "<br>\n",
    "\\\\(\n",
    "p(u|x) = p(u,x) /  p(x)\n",
    "\\\\)\n",
    "\n",
    "6. The idea of this equation is to find the unknown parameter $u$. We do not need to all use p(x), so we are going to ignore the probability of x\n",
    "\n",
    "7. By ignoring x  we have the following expression and simplification \n",
    "$$\n",
    "\\begin{aligned}\n",
    "p(u|x) & \\approx  p(u,x)\\\\ \n",
    "        &= p(x|u)p(u)\n",
    "\\end{aligned}\n",
    "$$\n",
    "8. $p(x|u)$ is objective function given the parameters, given that we have the data what is the probability of the parameters\n",
    "9. $p(u)$ is a prior belief on the parameters of interest, this is called the prior distribution\n",
    "10. The simple idea is to generate $u$ from its probability distribtution that creates that simulates $p(x|u)p(u)$ which is an approximate of $p(u|x)$.\n",
    "\n",
    "11. This process includes simulating many values of $u$ that following $p(u)$ to calculate \\\\(p(x|u)p(u)& \\approx p(u|x) \\\\). Once a proxy to $p(u|x)$ is generated the following techniques are used to estimate $u$.\n",
    "\n",
    "\n",
    "\n",
    "### 3) Expected Apriori Posterior and Maximum Apriori Posterior\n",
    "Once the simulation is done and the posterior distribution is created, there are two ways of estimating the unknown parameter $u$. The Expected Apriori Posterior (EAP) is the expectation of the posterior distribution which is the mean of the distribution which is the estimate of $u$. The Maximum Apriori Posterior (MAP) is the mode of the posterior distribution which is the most seen number as the estimate of $u$. It depends on the problem at hand which one should be used. However, if a simulation is being conducted and the true parameter is known it would be ideal to compute both techniques to the real value of $u$.\n"
   ]
  },
  {
   "cell_type": "markdown",
   "metadata": {},
   "source": [
    "# M: K- Nearest Neighbors (KNN)\n",
    "\n",
    "https://machinelearningmastery.com/tutorial-to-implement-k-nearest-neighbors-in-python-from-scratch/\n",
    "\n",
    "http://scikit-learn.org/stable/modules/neighbors.html\n",
    "\n",
    "- How it works?\n",
    "    - p training vectors\n",
    "    - k nearest neighbors of a point in which the majority of the neighbors decides the class of the point (evens problem, set odd number for k to avoid ties, make sure the number of neigbors is less than the number of classifications, ** come here to modify)\n",
    "\n",
    "\n",
    "    - To visualize this lets arbitrarily pick 2 vectors from the data set to be the x and y and assume k is 5 (verify this using plots)\n",
    "    - To illustrate how it works we look at a random point p and look at look at its 5 closest neighbors \n",
    "    - It is apparent that there _ blue circles and _ green circles therefore this point would be classified as _\n",
    "    - This is done to classify new points that are in the data set\n",
    "    - The distance that is used can be changed\n",
    "    - In this example we are only going to deal with KNN in which the response variable is categorial\n",
    "    - Based on the training data and the x and y values chosen, you can create regions based on the classifications (verify this using plots)\n",
    "    \n",
    "- When to use it?\n",
    "\n",
    "- Advantages?\n",
    "    - Robust to noisy data, use inverse square of weighted distabce as the distance\n",
    "    - Effective if the training data is large\n",
    "- Disadvantages?\n",
    "    - Complexity to many elements for large data sets\n",
    "    - Choose appropriate K (m)\n",
    "- Similarities?\n",
    "\n",
    "- Demonstration"
   ]
  },
  {
   "cell_type": "code",
   "execution_count": 31,
   "metadata": {},
   "outputs": [
    {
     "data": {
      "text/plain": [
       "<matplotlib.collections.PathCollection at 0x15329d8bb00>"
      ]
     },
     "execution_count": 31,
     "metadata": {},
     "output_type": "execute_result"
    },
    {
     "data": {
      "image/png": "[encoded data removed]",
      "text/plain": [
       "<matplotlib.figure.Figure at 0x153289ed7b8>"
      ]
     },
     "metadata": {},
     "output_type": "display_data"
    }
   ],
   "source": [
    "import numpy as np\n",
    "import matplotlib.pyplot as plt\n",
    "from matplotlib.pyplot import scatter\n",
    "import random\n",
    "from sklearn.neighbors import NearestNeighbors\n",
    "\n",
    "random.seed(10)\n",
    "mu1, sigma1,mu2, sigma2  = 1, 0.3,2,0.3 # mean and standard deviation\n",
    "data1 = np.random.normal(mu1, sigma1, 1000)\n",
    "data2 = np.random.normal(mu2, sigma2, 1000)\n",
    "data_n = data1*data2\n",
    "data3 = np.where(data_n < 1.5,1,0)\n",
    "\n",
    "\n",
    "plt.scatter(data1,data2,c=data3, alpha=0.7, marker='+')"
   ]
  },
  {
   "cell_type": "code",
   "execution_count": null,
   "metadata": {},
   "outputs": [],
   "source": [
    "import matplotlib.pyplot as plt\n",
    "count, bins, ignored = plt.hist(data, 30, normed=True)\n",
    "plt.plot(bins, 1/(sigma * np.sqrt(2 * np.pi)) *\n",
    "         np.exp( - (bins - mu)**2 / (2 * sigma**2) ),\n",
    "         linewidth=2, color='r')\n",
    "plt.show()"
   ]
  },
  {
   "cell_type": "markdown",
   "metadata": {},
   "source": [
    "D: Boltzman\n",
    "- How it works?\n",
    "- When to use it?\n",
    "- Advantages?\n",
    "- Disadvantages?\n",
    "- Similarities?\n",
    "- Demonstration"
   ]
  },
  {
   "cell_type": "markdown",
   "metadata": {},
   "source": [
    "P: Law of Large Numbers\n",
    "- Basic Definition\n",
    "- Why is this important?\n",
    "- When to use technique?\n",
    "- Example with problems"
   ]
  },
  {
   "cell_type": "markdown",
   "metadata": {},
   "source": [
    "P: Expectation and Variance\n",
    "- Basic Definition\n",
    "- Why is this important?\n",
    "- When to use technique?\n",
    "- Example with problems"
   ]
  },
  {
   "cell_type": "markdown",
   "metadata": {},
   "source": [
    "P: Probability Distributions\n",
    "Normal\n",
    "Gamma-Poisson Process\n",
    "Weibull\n",
    "Chi-Square\n",
    "\n",
    "- Basic Definition\n",
    "- Why is this important?\n",
    "- When to use technique?\n",
    "- Example with problems"
   ]
  },
  {
   "cell_type": "markdown",
   "metadata": {},
   "source": [
    "S: Estimation EAP, MAP, MLE Simulation\n",
    "- Basic Definition\n",
    "- Why is this important?\n",
    "- When to use technique?\n",
    "- Example with problems"
   ]
  },
  {
   "cell_type": "markdown",
   "metadata": {},
   "source": [
    "S: A/B Testing\n",
    "- Basic Definition\n",
    "- Why is this important?\n",
    "- When to use technique?\n",
    "- Example with problems"
   ]
  },
  {
   "cell_type": "markdown",
   "metadata": {},
   "source": [
    "S: Hypothesis Testing and Confidence Intervals\n",
    "\n",
    "- Basic Definition\n",
    "- Why is this important?\n",
    "- When to use technique?\n",
    "- Example with problems\n",
    "- Connection between Hypothesis Testing and Confidence Intervals"
   ]
  },
  {
   "cell_type": "markdown",
   "metadata": {},
   "source": [
    "S: Properties of Estimators\n",
    "Unbiasedness\n",
    "Consistency\n",
    "Sufficiency\n",
    "Efficiency\n",
    "\n",
    "- Basic Definition\n",
    "- Why is this important?\n",
    "- When to use technique?\n",
    "- Example with problems"
   ]
  },
  {
   "cell_type": "markdown",
   "metadata": {},
   "source": [
    "M: SVM\n",
    "- How it works?\n",
    "- When to use it?\n",
    "- Advantages?\n",
    "- Disadvantages?\n",
    "- Similarities?\n",
    "- Demonstration"
   ]
  },
  {
   "cell_type": "markdown",
   "metadata": {},
   "source": [
    "M: Neural Networks\n",
    "- How it works?\n",
    "- When to use it?\n",
    "- Advantages?\n",
    "- Disadvantages?\n",
    "- Similarities?\n",
    "- Demonstration"
   ]
  },
  {
   "cell_type": "markdown",
   "metadata": {},
   "source": [
    "M: K-Means\n",
    "- How it works?\n",
    "- When to use it?\n",
    "- Advantages?\n",
    "- Disadvantages?\n",
    "- Similarities?\n",
    "- Demonstration"
   ]
  },
  {
   "cell_type": "markdown",
   "metadata": {},
   "source": [
    "D: Forward/Backward Propagation\n",
    "- How it works?\n",
    "- When to use it?\n",
    "- Advantages?\n",
    "- Disadvantages?\n",
    "- Similarities?\n",
    "- Demonstration"
   ]
  },
  {
   "cell_type": "markdown",
   "metadata": {},
   "source": [
    "D: Stochastic Gradient\n",
    "- How it works?\n",
    "- When to use it?\n",
    "- Advantages?\n",
    "- Disadvantages?\n",
    "- Similarities?\n",
    "- Demonstration"
   ]
  },
  {
   "cell_type": "markdown",
   "metadata": {},
   "source": [
    "D: Learning Rate\n",
    "- How it works?\n",
    "- When to use it?\n",
    "- Advantages?\n",
    "- Disadvantages?\n",
    "- Similarities?\n",
    "- Demonstration"
   ]
  },
  {
   "cell_type": "markdown",
   "metadata": {},
   "source": [
    "# What is VR?\n",
    "What is VR/MR/AR? And why is it the future? (http://www.realitytechnologies.com/companies)\n",
    "- VR is Virtual Reality, you are experiencing reality via a headset or cell phone\n",
    "- AR is Augmented reality, not only is your vision is augmented by your headset but your smell, touch, awarness and self orientation is altered by this reality.\n",
    "- MR is mixed reality mixes the real and virtual environments to create a new experience in which virtual and real things exist together.\n",
    "\n",
    "Many companies are doing real cool things with VR, AR, and MR. Below are three companies in each area that I find very cool and the tasks they are currently facing\n",
    "\n",
    "Check out c|net and tech crunch\n",
    "VR\n",
    "1. Oculus (Facebook's VR platform) https://www.oculus.com/blog/\n",
    "\n",
    "AR (https://thinkmobiles.com/blog/augmented-reality-companies/)\n",
    "1. Niantic https://www.nianticlabs.com/ https://www.nianticlabs.com/blog/\n",
    "https://www.nianticlabs.com/jobs/data-scientist/\n",
    "\n",
    "MR\n",
    "1. Magic Leap https://www.magicleap.com/stories\n",
    " "
   ]
  },
  {
   "cell_type": "markdown",
   "metadata": {},
   "source": [
    "# Meeting with Wallon\n",
    "## 1)Based on your experience what drove you to\n",
    "### a) VR\n",
    "### b) Combining VR with Data Analytics\n",
    "background\n",
    "\n",
    "## 2) How do you see companies using virtual analytics that adds more to the t\n",
    "\n",
    "\n",
    "## 3) Which industry do you think is most likely going to use virtual anlytics first\n",
    "\n",
    "## 4) Do you think that different ML and DL techniques can be created to assist the understandning of virtualanalytics\n",
    "\n",
    "## 5) Do you plan on using VR for other tasks?"
   ]
  },
  {
   "cell_type": "markdown",
   "metadata": {},
   "source": [
    "# Generate Correlated data"
   ]
  },
  {
   "cell_type": "code",
   "execution_count": null,
   "metadata": {},
   "outputs": [],
   "source": [
    "from matplotlib.pyplot import scatter\n",
    "xx = np.array([-0.51, 51.2])\n",
    "yy = np.array([0.33, 51.6])\n",
    "means = [xx.mean(), yy.mean()]  \n",
    "stds = [xx.std() / 3, yy.std() / 3]\n",
    "corr = 0.8         # correlation\n",
    "covs = [[stds[0]**2          , stds[0]*stds[1]*corr], \n",
    "        [stds[0]*stds[1]*corr,           stds[1]**2]] \n",
    "\n",
    "m = np.random.multivariate_normal(means, covs, 1000).T\n",
    "scatter(m[0], m[1])"
   ]
  }
 ],
 "metadata": {
  "kernelspec": {
   "display_name": "Python 3",
   "language": "python",
   "name": "python3"
  },
  "language_info": {
   "codemirror_mode": {
    "name": "ipython",
    "version": 3
   },
   "file_extension": ".py",
   "mimetype": "text/x-python",
   "name": "python",
   "nbconvert_exporter": "python",
   "pygments_lexer": "ipython3",
   "version": "3.6.4"
  }
 },
 "nbformat": 4,
 "nbformat_minor": 2
}
