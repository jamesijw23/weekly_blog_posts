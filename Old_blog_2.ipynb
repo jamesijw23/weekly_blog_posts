{
 "cells": [
  {
   "cell_type": "code",
   "execution_count": 59,
   "metadata": {
    "collapsed": true
   },
   "outputs": [],
   "source": [
    "library(rpart)\n",
    "library(rattle)\n",
    "library(rpart.plot)\n",
    "library(RColorBrewer)\n",
    "library(pROC)\n",
    "library(ggplot2)"
   ]
  },
  {
   "cell_type": "markdown",
   "metadata": {},
   "source": [
    "## Blog Entry 1: 3/13/18 Classification in CART"
   ]
  },
  {
   "cell_type": "code",
   "execution_count": 8,
   "metadata": {},
   "outputs": [
    {
     "data": {
      "text/plain": [
       "n= 150 \n",
       "\n",
       "node), split, n, loss, yval, (yprob)\n",
       "      * denotes terminal node\n",
       "\n",
       "1) root 150 100 setosa (0.33333333 0.33333333 0.33333333)  \n",
       "  2) Petal.Length< 2.45 50   0 setosa (1.00000000 0.00000000 0.00000000) *\n",
       "  3) Petal.Length>=2.45 100  50 versicolor (0.00000000 0.50000000 0.50000000)  \n",
       "    6) Petal.Width< 1.75 54   5 versicolor (0.00000000 0.90740741 0.09259259) *\n",
       "    7) Petal.Width>=1.75 46   1 virginica (0.00000000 0.02173913 0.97826087) *"
      ]
     },
     "metadata": {},
     "output_type": "display_data"
    }
   ],
   "source": [
    "model_tree <- rpart(Species ~., method=\"class\",data=iris)\n",
    "model_tree\n",
    "fancyRpartPlot(model_tree)"
   ]
  },
  {
   "cell_type": "markdown",
   "metadata": {},
   "source": [
    "## Blog Entry 2: 3/13/18 Regression in CART"
   ]
  },
  {
   "cell_type": "code",
   "execution_count": 53,
   "metadata": {},
   "outputs": [
    {
     "data": {
      "text/plain": [
       "n=60 (57 observations deleted due to missingness)\n",
       "\n",
       "node), split, n, deviance, yval\n",
       "      * denotes terminal node\n",
       "\n",
       " 1) root 60 1354.58300 24.58333  \n",
       "   2) Price>=9446.5 48  407.91670 22.70833  \n",
       "     4) Type=Large,Medium,Van 23   66.86957 20.69565  \n",
       "       8) Type=Large,Van 10   22.10000 19.30000 *\n",
       "       9) Type=Medium 13   10.30769 21.76923 *\n",
       "     5) Type=Compact,Small,Sporty 25  162.16000 24.56000  \n",
       "      10) Price>=11484.5 14  107.71430 23.85714 *\n",
       "      11) Price< 11484.5 11   38.72727 25.45455 *\n",
       "   3) Price< 9446.5 12  102.91670 32.08333 *"
      ]
     },
     "metadata": {},
     "output_type": "display_data"
    }
   ],
   "source": [
    "\n",
    "fit <- rpart(Mileage~Price + Country + Reliability + Type,\n",
    "   method=\"anova\", data=cu.summary)\n",
    "fit\n",
    "fancyRpartPlot(fit)\n",
    "table(cu.summary$Type)"
   ]
  },
  {
   "cell_type": "code",
   "execution_count": 46,
   "metadata": {},
   "outputs": [
    {
     "data": {
      "text/plain": [
       "n= 500 \n",
       "\n",
       "node), split, n, deviance, yval\n",
       "      * denotes terminal node\n",
       "\n",
       " 1) root 500 499.000000 3.000000  \n",
       "   2) hours< 19.88053 225 135.369200 2.313169  \n",
       "     4) hours< 19.03167 86  40.534620 1.793203  \n",
       "       8) hours< 18.10041 16   6.813882 1.243678 *\n",
       "       9) hours>=18.10041 70  27.784720 1.918809 *\n",
       "     5) hours>=19.03167 139  57.197550 2.634874 *\n",
       "   3) hours>=19.88053 275 170.647500 3.561953  \n",
       "     6) hours< 21.03424 194  85.797040 3.304528  \n",
       "      12) hours< 20.38295 100  37.876560 3.122338 *\n",
       "      13) hours>=20.38295 94  41.069990 3.498346 *\n",
       "     7) hours>=21.03424 81  41.203820 4.178501  \n",
       "      14) hours< 21.73051 63  27.114170 4.016749 *\n",
       "      15) hours>=21.73051 18   6.672173 4.744636 *"
      ]
     },
     "metadata": {},
     "output_type": "display_data"
    }
   ],
   "source": [
    "## Check out for notes: https://gormanalysis.com/decision-trees-in-r-using-rpart/\n",
    "set.seed(123)\n",
    "n <- 500\n",
    "sigma <- matrix(c(1, 0.76, \n",
    "                  0.76, 1), \n",
    "                nrow=2)\n",
    "z <- mvrnorm(n,mu=c(3,20),Sigma=sigma,empirical=T)\n",
    "grades = data.frame(gpa =z[,1], hours =z[,2] )\n",
    "model_tree_gpa <- rpart(gpa ~., method=\"anova\",data=grades)\n",
    "model_tree_gpa\n",
    "fancyRpartPlot(model_tree_gpa)"
   ]
  },
  {
   "cell_type": "markdown",
   "metadata": {},
   "source": [
    "## Blog Entry 3: 3/14/18 Splitting in CART"
   ]
  },
  {
   "cell_type": "code",
   "execution_count": 278,
   "metadata": {},
   "outputs": [
    {
     "data": {
      "text/plain": [
       "    est\n",
       "true  0  1\n",
       "   0 60 40\n",
       "   1  1 99"
      ]
     },
     "metadata": {},
     "output_type": "display_data"
    },
    {
     "data": {
      "text/plain": [
       "n= 200 \n",
       "\n",
       "node), split, n, loss, yval, (yprob)\n",
       "      * denotes terminal node\n",
       "\n",
       "1) root 200 100 0 (0.50000000 0.50000000)  \n",
       "  2) gpa< 2.915628 53   1 0 (0.98113208 0.01886792) *\n",
       "  3) gpa>=2.915628 147  48 1 (0.32653061 0.67346939)  \n",
       "    6) gpa>=4.142404 8   0 0 (1.00000000 0.00000000) *\n",
       "    7) gpa< 4.142404 139  40 1 (0.28776978 0.71223022) *"
      ]
     },
     "metadata": {},
     "output_type": "display_data"
    },
    {
     "data": {
      "text/html": [
       "<ol class=list-inline>\n",
       "\t<li>0.983606557377049</li>\n",
       "\t<li>0.0163934426229508</li>\n",
       "\t<li>0.712230215827338</li>\n",
       "\t<li>0.287769784172662</li>\n",
       "</ol>\n"
      ],
      "text/latex": [
       "\\begin{enumerate*}\n",
       "\\item 0.983606557377049\n",
       "\\item 0.0163934426229508\n",
       "\\item 0.712230215827338\n",
       "\\item 0.287769784172662\n",
       "\\end{enumerate*}\n"
      ],
      "text/markdown": [
       "1. 0.983606557377049\n",
       "2. 0.0163934426229508\n",
       "3. 0.712230215827338\n",
       "4. 0.287769784172662\n",
       "\n",
       "\n"
      ],
      "text/plain": [
       "[1] 0.98360656 0.01639344 0.71223022 0.28776978"
      ]
     },
     "metadata": {},
     "output_type": "display_data"
    }
   ],
   "source": [
    "set.seed(12)\n",
    "n0 = 100\n",
    "n1 = 100\n",
    "gpa_s0 = rnorm(n0,3.0,1)\n",
    "gpa_s1 = rnorm(n1,3.5,0.3)\n",
    "grades = data.frame(gpa =c(gpa_s0,gpa_s1) ,school = factor(c(rep(0,n0),rep(1,n1))   ))\n",
    "\n",
    "\n",
    "\n",
    "\n",
    "model_tree_school <- rpart(school ~., method=\"class\", data=grades, minsplit = 10)\n",
    "pred = predict(model_tree_school, type=\"class\")\n",
    "tab_pred = table(true = grades$school,est = pred)\n",
    "prop00 = tab_pred[1] /sum(tab_pred[c(1,2)])\n",
    "prop10 = tab_pred[2] /sum(tab_pred[c(1,2)]) ## False Positive\n",
    "prop11 = tab_pred[4] /sum(tab_pred[c(3,4)])\n",
    "prop01 = tab_pred[3] /sum(tab_pred[c(3,4)]) ## False Negative\n",
    "tmp = c(prop00,prop10,prop11,prop01)\n",
    "\n",
    "tab_pred\n",
    "split_number = model_tree_school$splits[4]\n",
    "\n",
    "model_tree_school\n",
    "tmp\n",
    "\n"
   ]
  },
  {
   "cell_type": "code",
   "execution_count": 280,
   "metadata": {},
   "outputs": [
    {
     "name": "stderr",
     "output_type": "stream",
     "text": [
      "`stat_bin()` using `bins = 30`. Pick better value with `binwidth`.\n"
     ]
    },
    {
     "data": {},
     "metadata": {},
     "output_type": "display_data"
    },
    {
     "data": {
      "image/png": "[encoded data removed]",
      "text/plain": [
       "plot without title"
      ]
     },
     "metadata": {},
     "output_type": "display_data"
    },
    {
     "data": {
      "text/html": [
       "'NULL'"
      ],
      "text/latex": [
       "'NULL'"
      ],
      "text/markdown": [
       "'NULL'"
      ],
      "text/plain": [
       "[1] \"NULL\""
      ]
     },
     "metadata": {},
     "output_type": "display_data"
    },
    {
     "data": {
      "image/png": "[encoded data removed]",
      "text/plain": [
       "Plot with title \"\""
      ]
     },
     "metadata": {},
     "output_type": "display_data"
    }
   ],
   "source": [
    "ggplot(grades, aes(x=gpa, color=school)) +\n",
    "  geom_histogram(fill=c(\"white\"), alpha=0.5, position=\"identity\") + \n",
    "  scale_color_manual(values=c(\"black\", \"red\", \"black\")) +\n",
    "  geom_vline(xintercept=split_number) +\n",
    "annotate(\"text\", x=split_number,y=40,label=\"Split Should Occur\",col=\"blue\")\n",
    "\n",
    "p2 = fancyRpartPlot(model_tree_school)\n",
    "class(p2)\n",
    "\n",
    "\n",
    "## Control Aspects is :\n",
    "    # standard deviation\n",
    "    # minsplit\n",
    "\n",
    "## Show:\n",
    "    # proportions\n",
    "    # histogram\n",
    "    # Tree\n",
    "\n",
    "\n"
   ]
  },
  {
   "cell_type": "code",
   "execution_count": 119,
   "metadata": {},
   "outputs": [
    {
     "data": {
      "text/plain": [
       "n= 3 \n",
       "\n",
       "node), split, n, loss, yval, (yprob)\n",
       "      * denotes terminal node\n",
       "\n",
       "1) root 3 1 TRUE (0.3333333 0.6666667) *"
      ]
     },
     "metadata": {},
     "output_type": "display_data"
    },
    {
     "ename": "ERROR",
     "evalue": "Error in apply(model$frame$yval2[, yval2per], 1, function(x) x[1 + x[1]]): dim(X) must have a positive length\n",
     "output_type": "error",
     "traceback": [
      "Error in apply(model$frame$yval2[, yval2per], 1, function(x) x[1 + x[1]]): dim(X) must have a positive length\nTraceback:\n",
      "1. fancyRpartPlot(mytree)",
      "2. apply(model$frame$yval2[, yval2per], 1, function(x) x[1 + x[1]])",
      "3. stop(\"dim(X) must have a positive length\")"
     ]
    }
   ],
   "source": [
    "train <- data.frame(ClaimID = c(1,2,3),RearEnd = c(TRUE, FALSE, TRUE),Fraud = c(TRUE, FALSE, TRUE))\n",
    "mytree <- rpart(Fraud ~ RearEnd, data = train, method = \"class\")\n",
    "mytree\n",
    "fancyRpartPlot(mytree)"
   ]
  },
  {
   "cell_type": "code",
   "execution_count": null,
   "metadata": {},
   "outputs": [
    {
     "name": "stderr",
     "output_type": "stream",
     "text": [
      "Warning message:\n",
      "\"package 'gridExtra' was built under R version 3.4.3\"\n",
      "Listening on http://127.0.0.1:7295\n"
     ]
    }
   ],
   "source": []
  },
  {
   "cell_type": "code",
   "execution_count": null,
   "metadata": {
    "collapsed": true
   },
   "outputs": [],
   "source": []
  }
 ],
 "metadata": {
  "kernelspec": {
   "display_name": "R",
   "language": "R",
   "name": "ir"
  },
  "language_info": {
   "codemirror_mode": "r",
   "file_extension": ".r",
   "mimetype": "text/x-r-source",
   "name": "R",
   "pygments_lexer": "r",
   "version": "3.4.2"
  }
 },
 "nbformat": 4,
 "nbformat_minor": 2
}
